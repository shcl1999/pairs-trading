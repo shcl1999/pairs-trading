{
 "cells": [
  {
   "cell_type": "markdown",
   "id": "3ffec2d9-5a96-40b9-b1e7-e6333b3b6790",
   "metadata": {},
   "source": [
    "# Imports and connection"
   ]
  },
  {
   "cell_type": "code",
   "execution_count": 5,
   "id": "81c286c7-4fa5-405c-ae10-98049eb69d1f",
   "metadata": {},
   "outputs": [],
   "source": [
    "import math\n",
    "import numpy as np\n",
    "import pandas as pd\n",
    "from scipy.stats import norm\n",
    "\n",
    "import datetime as dt\n",
    "import time\n",
    "import logging\n",
    "\n",
    "import black_scholes\n",
    "import libs\n",
    "\n",
    "from optibook.synchronous_client import Exchange\n",
    "import functions as fun"
   ]
  },
  {
   "cell_type": "code",
   "execution_count": 27,
   "id": "6e2e284a-2097-4fac-9552-c2ef20d6f1e7",
   "metadata": {},
   "outputs": [
    {
     "name": "stderr",
     "output_type": "stream",
     "text": [
      "2022-04-01 08:13:34,669 [asyncio   ] [MainThread  ] Using selector: EpollSelector\n"
     ]
    }
   ],
   "source": [
    "exchange = Exchange()\n",
    "exchange.connect()\n",
    "\n",
    "logging.getLogger('client').setLevel('ERROR')"
   ]
  },
  {
   "cell_type": "markdown",
   "id": "20ccf1de-0ed5-4f63-8c69-c5e7589a6c07",
   "metadata": {},
   "source": [
    "# Algorithm"
   ]
  },
  {
   "cell_type": "code",
   "execution_count": 13,
   "id": "791d6447-2ed4-43b7-8018-7bf760ddd050",
   "metadata": {},
   "outputs": [
    {
     "ename": "IndentationError",
     "evalue": "expected an indented block (<ipython-input-42-0147fce04ed7>, line 65)",
     "output_type": "error",
     "traceback": [
      "\u001b[0;36m  File \u001b[0;32m\"<ipython-input-42-0147fce04ed7>\"\u001b[0;36m, line \u001b[0;32m65\u001b[0m\n\u001b[0;31m    position_a, position_b, order_book_a, order_book_b= fun.get_positions_and_order_book(exchange, instrument_a, instrument_b)\u001b[0m\n\u001b[0m             ^\u001b[0m\n\u001b[0;31mIndentationError\u001b[0m\u001b[0;31m:\u001b[0m expected an indented block\n"
     ]
    },
    {
     "name": "stderr",
     "output_type": "stream",
     "text": [
      "2022-04-01 08:53:03,006 [client    ] [Thread-8    ] Forcing a disconnect due to an error: Closing connection because someone else logged in with the same credentials. Only one session may be active at the same time.\n"
     ]
    }
   ],
   "source": [
    "position_limit = 100\n",
    "\n",
    "# Obtain pair objects which hold all relevant information for each of the three tradeable pairs\n",
    "(pair_adyen_kpn, pair_adyen_tkwy, pair_kpn_tkwy) = fun.get_tradeable_pairs()\n",
    "\n",
    "# Main loop\n",
    "while True:\n",
    "    \n",
    "    # During each main loop, run the procedure for each of the three tradeable pairs\n",
    "    for pair in [pair_adyen_kpn, pair_adyen_tkwy, pair_kpn_tkwy]:\n",
    "        instrument_a = pair.instrument_a\n",
    "        instrument_b = pair.instrument_b\n",
    "        constant = pair.constant\n",
    "        slope = pair.gamma\n",
    "        # Hedge Ratio: gamma * y / x. Use a pre-calculated ratio based on historical data \n",
    "        hedge_ratio = pair.hedge_ratio\n",
    "        # Threshold: the value of Z for which (times it occurs * profit when it occurs) is maximal - pair specific\n",
    "        threshold = pair.optimal_threshold\n",
    "        \n",
    "        # Obtain relevant trading information\n",
    "        position_a, position_b, order_book_a, order_book_b = fun.get_positions_and_order_book(exchange, instrument_a, instrument_b)\n",
    "        if fun.order_books_are_not_empty(order_book_a, order_book_b):\n",
    "            \n",
    "            # Extract information from the order books, and use this to calculate two Z-values\n",
    "            # Invariant: Z1 < Z2\n",
    "            best_ask_a, best_bid_a = order_book_a.asks[0], order_book_a.bids[0]\n",
    "            best_ask_b, best_bid_b = order_book_b.asks[0], order_book_b.bids[0]\n",
    "            z_1 = - constant - slope * np.log(best_ask_b.price) + np.log(best_bid_a.price)\n",
    "            z_2 = - constant - slope * np.log(best_bid_b.price) + np.log(best_ask_a.price)\n",
    "            \n",
    "            # Case where A is overvalued compared to B; short A and go long in B\n",
    "            if(z_1 > threshold):\n",
    "                # In the pair, B is always the (in absolute terms) cheaper stock. Therefore, we always have more absolute position in B\n",
    "                # when properly hedged (which is maintained as an invariant of the main loop termination), and thus we only need to check B's limits.\n",
    "                if(position_b < position_limit):\n",
    "                    order_size = min(position_limit - position_b, best_ask_b.volume)\n",
    "                    exchange.insert_order(instrument_b, price=best_ask_b.price, volume=order_size, side='bid', order_type='ioc')\n",
    "                    # Verify whether and how much of the order on B came through\n",
    "                    # If it (partly) came through, hedge in A according to the hedging ratio\n",
    "                    fulfilled_volume = abs(exchange.get_positions()[instrument_b] - position_b)\n",
    "                    if(fulfilled_volume):\n",
    "                        exchange.insert_order(instrument_a, price=best_bid_a.price, volume=int(round(fulfilled_volume/hedge_ratio, 0)), side='ask', order_type='ioc')\n",
    "                        \n",
    "            # Case where B is overvalued compared to A; short B and go long in A\n",
    "            # Since Z1 < Z2 always holds, at most 1 of these if-statements can fire per iteration\n",
    "            # The following is otherwise simply mirroring the previous block of code\n",
    "            if(z_2 < -threshold):\n",
    "                if(position_b > -position_limit):\n",
    "                    order_size = min(position_limit + position_b, best_bid_b.volume)\n",
    "                    exchange.insert_order(instrument_b, price=best_bid_b.price, volume=order_size, side='ask', order_type='ioc')\n",
    "                    fulfilled_volume = abs(exchange.get_positions()[instrument_b] - position_b)\n",
    "                    if(fulfilled_volume):\n",
    "                        exchange.insert_order(instrument_a, price=best_ask_a.price, volume=int(round(fulfilled_volume/hedge_ratio, 0)), side='bid', order_type='ioc')\n",
    "                        \n",
    "        # Sometimes, the second order does not fall through, thus, we check whether we are properly hedged. \n",
    "        # If not, immediately hedge at the best available costs. \n",
    "        # Thus, we maintain the invariant that we are always properly hedged during termination of the main loop.\n",
    "        position_a, position_b, order_book_a, order_book_b = fun.get_positions_and_order_book(exchange, instrument_a, instrument_b)\n",
    "        while fun.unhedged(position_a, position_b, hedge_ratio):\n",
    "            if fun.order_books_are_not_empty(order_book_a, order_book_b):\n",
    "                fun.try_hedge(exchange, position_a, position_b, order_book_a, instrument_a, hedge_ratio)\n",
    "            position_a, position_b, order_book_a, order_book_b= fun.get_positions_and_order_book(exchange, instrument_a, instrument_b)\n",
    "                "
   ]
  },
  {
   "cell_type": "code",
   "execution_count": null,
   "id": "6f38383f-492f-4c2e-b0c2-f3af5f262405",
   "metadata": {},
   "outputs": [],
   "source": []
  }
 ],
 "metadata": {
  "kernelspec": {
   "display_name": "Python 3",
   "language": "python",
   "name": "python3"
  },
  "language_info": {
   "codemirror_mode": {
    "name": "ipython",
    "version": 3
   },
   "file_extension": ".py",
   "mimetype": "text/x-python",
   "name": "python",
   "nbconvert_exporter": "python",
   "pygments_lexer": "ipython3",
   "version": "3.6.12"
  }
 },
 "nbformat": 4,
 "nbformat_minor": 5
}
